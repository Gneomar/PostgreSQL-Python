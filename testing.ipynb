{
 "cells": [
  {
   "cell_type": "code",
   "execution_count": null,
   "metadata": {},
   "outputs": [],
   "source": [
    "import os\n",
    "import pandas as pd\n",
    "from dotenv import load_dotenv\n",
    "from modules.postgres_functions import probar_conexion_postgresql, create_sql_script, sql_query, df_to_sql\n",
    "\n",
    "def load_env():\n",
    "    load_dotenv()\n",
    "    host = os.getenv(\"HOST\")\n",
    "    port = os.getenv(\"PORT\")\n",
    "    database = os.getenv(\"DATABASE\")\n",
    "    user = os.getenv(\"USER\")\n",
    "    password = os.getenv(\"PASSWORD\")\n",
    "    return host, port, database, user, password\n",
    "\n",
    "host, port, database, user, password = load_env()\n",
    "probar_conexion_postgresql(host, password, database, user, port)"
   ]
  },
  {
   "cell_type": "code",
   "execution_count": 3,
   "metadata": {},
   "outputs": [],
   "source": [
    "excel_path = \"Table.xlsx\"\n",
    "df1 = pd.read_excel(excel_path, sheet_name=\"Servicios\")\n",
    "df2 = pd.read_excel(excel_path, sheet_name=\"Etapas\")\n",
    "df3 = pd.read_excel(excel_path, sheet_name=\"Informes\")"
   ]
  },
  {
   "cell_type": "code",
   "execution_count": 4,
   "metadata": {},
   "outputs": [],
   "source": [
    "def create_first_table(df, table_name, file_name, pk_col=None, index_cols=None, date_cols=False):\n",
    "    create_sql_script(df, table_name, file_name, pk_name=pk_col, index_cols=index_cols, date_cols=date_cols)\n",
    "\n",
    "def create_sql_table(df, table_name, file_name, pk_col=None, index_cols=None, date_cols=False, final_table=None):\n",
    "    create_sql_script(df, table_name, file_name, pk_name=pk_col, index_cols=index_cols, date_cols=date_cols, transaction=final_table)\n",
    "    with open(file_name, 'r') as file:\n",
    "        query = file.read()\n",
    "    sql_query(host, password, database, user, port, query, fetch=False)\n",
    "    df_to_sql(host, password, database, user, port, df, table_name, 'append', index_label=None)\n"
   ]
  },
  {
   "cell_type": "code",
   "execution_count": null,
   "metadata": {},
   "outputs": [],
   "source": [
    "file_name = 'script_table.sql'\n",
    "dir = os.path.join(os.getcwd(), 'lib')\n",
    "if not os.path.exists(dir):\n",
    "    os.makedirs(dir)\n",
    "\n",
    "file_name = os.path.join(dir, file_name)\n",
    "\n",
    "pk_col = 'ID UNICO'\n",
    "index_cols = ['Ano vigente', 'ID tipologia']\n",
    "\n",
    "create_sql_script(df, 'tabla_temporal', file_name, index_cols=index_cols, date_cols=True, pk_name=pk_col, transaction='tabla')\n",
    "\n",
    "with open(file_name, 'r') as file:\n",
    "    query = file.read()\n",
    "sql_query(host, password, database, user, port, query, fetch=False)\n",
    "\n",
    "df_to_sql(host, password, database, user, port, df, 'tabla_temporal', 'append', index_label=None)"
   ]
  }
 ],
 "metadata": {
  "kernelspec": {
   "display_name": "Python 3",
   "language": "python",
   "name": "python3"
  },
  "language_info": {
   "codemirror_mode": {
    "name": "ipython",
    "version": 3
   },
   "file_extension": ".py",
   "mimetype": "text/x-python",
   "name": "python",
   "nbconvert_exporter": "python",
   "pygments_lexer": "ipython3",
   "version": "3.12.2"
  }
 },
 "nbformat": 4,
 "nbformat_minor": 2
}
