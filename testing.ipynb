{
 "cells": [
  {
   "cell_type": "code",
   "execution_count": 1,
   "metadata": {},
   "outputs": [],
   "source": [
    "import os\n",
    "from dotenv import load_dotenv\n",
    "from modules.postgres_functions import probar_conexion_postgresql\n"
   ]
  },
  {
   "cell_type": "code",
   "execution_count": 2,
   "metadata": {},
   "outputs": [],
   "source": [
    "def load_env():\n",
    "    load_dotenv()\n",
    "    host = os.getenv(\"HOST\")\n",
    "    port = os.getenv(\"PORT\")\n",
    "    database = os.getenv(\"DATABASE\")\n",
    "    user = os.getenv(\"USER\")\n",
    "    password = os.getenv(\"PASSWORD\")\n",
    "    return host, port, database, user, password"
   ]
  },
  {
   "cell_type": "code",
   "execution_count": null,
   "metadata": {},
   "outputs": [],
   "source": [
    "host, port, database, user, password = load_env()\n",
    "probar_conexion_postgresql(host, password, database, user, port)"
   ]
  },
  {
   "cell_type": "code",
   "execution_count": 4,
   "metadata": {},
   "outputs": [],
   "source": [
    "import pandas as pd\n",
    "import numpy as np\n",
    "def create_dataframe(rows):\n",
    "    data = {'a': np.random.randint(0, 100, rows),\n",
    "            'b': np.random.randint(0, 100, rows),\n",
    "            'c': np.random.randint(0, 100, rows)}\n",
    "    df = pd.DataFrame(data)\n",
    "    return df\n",
    "\n",
    "df = create_dataframe(10)"
   ]
  },
  {
   "cell_type": "code",
   "execution_count": null,
   "metadata": {},
   "outputs": [],
   "source": [
    "from modules.postgres_functions import create_sql_script\n",
    "\n",
    "file_name = 'script_table.sql'\n",
    "dir = os.path.join(os.getcwd(), 'lib')\n",
    "if not os.path.exists(dir):\n",
    "    os.makedirs(dir)\n",
    "\n",
    "file_name = os.path.join(dir, file_name)\n",
    "\n",
    "create_sql_script(df, 'tabla_temporal', file_name, date_cols=True, transaction='tabla')"
   ]
  },
  {
   "cell_type": "code",
   "execution_count": null,
   "metadata": {},
   "outputs": [],
   "source": [
    "from modules.postgres_functions import sql_query\n",
    "\n",
    "with open(file_name, 'r') as file:\n",
    "    query = file.read()\n",
    "sql_query(host, password, database, user, port, query, fetch=False)"
   ]
  },
  {
   "cell_type": "code",
   "execution_count": null,
   "metadata": {},
   "outputs": [],
   "source": [
    "from modules.postgres_functions import df_to_sql\n",
    "\n",
    "df = create_dataframe(2)\n",
    "\n",
    "df_to_sql(host, password, database, user, port, df, 'tabla_temporal', 'append', index_label=None)"
   ]
  },
  {
   "cell_type": "code",
   "execution_count": null,
   "metadata": {},
   "outputs": [],
   "source": [
    "lista_unicos = ['Codigo de Servicio']\n",
    "create_sql_script(df, table_name, lista_unicos, pk_name='Codigo de Servicio', date_cols=True)\n",
    "\n",
    "dir_actual = os.getcwd()\n",
    "ruta_query = os.path.join(dir_actual ,\"create_table.sql\")\n",
    "with open(ruta_query, 'r') as file:\n",
    "    query = file.read()\n",
    "sql_query(host, local_pass, database, query, values=True, fetch=False)\n"
   ]
  }
 ],
 "metadata": {
  "kernelspec": {
   "display_name": "Python 3",
   "language": "python",
   "name": "python3"
  },
  "language_info": {
   "codemirror_mode": {
    "name": "ipython",
    "version": 3
   },
   "file_extension": ".py",
   "mimetype": "text/x-python",
   "name": "python",
   "nbconvert_exporter": "python",
   "pygments_lexer": "ipython3",
   "version": "3.10.10"
  }
 },
 "nbformat": 4,
 "nbformat_minor": 2
}
